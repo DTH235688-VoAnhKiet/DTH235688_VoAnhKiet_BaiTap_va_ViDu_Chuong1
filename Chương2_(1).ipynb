{
  "nbformat": 4,
  "nbformat_minor": 0,
  "metadata": {
    "colab": {
      "provenance": [],
      "include_colab_link": true
    },
    "kernelspec": {
      "name": "python3",
      "display_name": "Python 3"
    },
    "language_info": {
      "name": "python"
    }
  },
  "cells": [
    {
      "cell_type": "markdown",
      "metadata": {
        "id": "view-in-github",
        "colab_type": "text"
      },
      "source": [
        "<a href=\"https://colab.research.google.com/github/DTH235688-VoAnhKiet/DTH235688_VoAnhKiet_Nopbai_chuong2/blob/main/Ch%C6%B0%C6%A1ng2_(1).ipynb\" target=\"_parent\"><img src=\"https://colab.research.google.com/assets/colab-badge.svg\" alt=\"Open In Colab\"/></a>"
      ]
    },
    {
      "cell_type": "code",
      "execution_count": null,
      "metadata": {
        "colab": {
          "base_uri": "https://localhost:8080/"
        },
        "id": "vF7wMwP8iOKR",
        "outputId": "045cb299-b1d0-41ee-91e2-e62897646f7e"
      },
      "outputs": [
        {
          "output_type": "stream",
          "name": "stdout",
          "text": [
            "Mời bạn nhập bán kính hình tròn:6\n",
            "Chu vi = 37.69911184307752\n",
            "Diện tích= 36.0\n"
          ]
        }
      ],
      "source": [
        "#Câu 1\n",
        "import math\n",
        "try:\n",
        " r=float(input(\"Mời bạn nhập bán kính hình tròn:\"))\n",
        " cv=2*math.pi*r\n",
        " dt=r**2\n",
        " print(\"Chu vi =\",cv)\n",
        " print(\"Diện tích=\",dt)\n",
        "except:\n",
        " print(\"Lỗi rồi!\")"
      ]
    },
    {
      "cell_type": "code",
      "source": [
        "#Câu 2\n",
        "t=int(input(\"Nhập số giây:\"))\n",
        "hour=(t//3600)%24\n",
        "minute=(t%3600)//60\n",
        "second=(t%3600)%60\n",
        "print(hour,\":\",minute,\":\",second)"
      ],
      "metadata": {
        "colab": {
          "base_uri": "https://localhost:8080/"
        },
        "id": "Gx4eWVfHih7J",
        "outputId": "4f8d600a-c480-49de-c640-542353fb4c42"
      },
      "execution_count": null,
      "outputs": [
        {
          "output_type": "stream",
          "name": "stdout",
          "text": [
            "Nhập số giây:3579\n",
            "0 : 59 : 39\n"
          ]
        }
      ]
    },
    {
      "cell_type": "code",
      "source": [
        "#Câu 3\n",
        "toan=float(input(\"Nhập điểm Toán:\"))\n",
        "ly=float(input(\"Nhập điểm lý:\"))\n",
        "hoa=float(input(\"Nhập điểm hóa:\"))\n",
        "dtb=(toan+ly+hoa)/3\n",
        "print(\"Điểm trung bình=\",dtb)\n",
        "print(\"Điểm trung bình=\",round(dtb,2))"
      ],
      "metadata": {
        "colab": {
          "base_uri": "https://localhost:8080/"
        },
        "id": "p8D1iEyqisgS",
        "outputId": "23e744d3-07fc-4fdb-b06f-8b8722e6282f"
      },
      "execution_count": null,
      "outputs": [
        {
          "output_type": "stream",
          "name": "stdout",
          "text": [
            "Nhập điểm Toán:5\n",
            "Nhập điểm lý:6.8\n",
            "Nhập điểm hóa:7.9\n",
            "Điểm trung bình= 6.566666666666667\n",
            "Điểm trung bình= 6.57\n"
          ]
        }
      ]
    },
    {
      "cell_type": "code",
      "source": [
        "#Câu 4 Các kiểu dữ liệu cơ bản trong Python gồm: int, float, complex, str, list, tuple, dict, set, bool."
      ],
      "metadata": {
        "id": "1UpnF3ydi9yl"
      },
      "execution_count": null,
      "outputs": []
    },
    {
      "cell_type": "code",
      "source": [
        "#Câu 5\n",
        "'''\n",
        "#Ghi chú một dòng: dùng #\n",
        "#Ghi chú nhiều dòng: dùng nhiều dấu #\n",
        "#Ghi chú tài liệu: dùng ba dấu nháy đơn hoặc nháy kép ngay sau khai báo hàm/lớp/module.\n",
        "'''"
      ],
      "metadata": {
        "id": "2njb8_fajKWW"
      },
      "execution_count": null,
      "outputs": []
    },
    {
      "cell_type": "code",
      "source": [
        "#Câu 6\n",
        "'''\n",
        "Các toán tử số học:\n",
        "-> / (Phép chia thông thường);\n",
        "-> // (Phép chia lấy phần nguyên);\n",
        "-> % (Phép chia lấy dư);\n",
        "-> ** (Lũy thừa);\n",
        "and, or là các toán tử logic.\n",
        "is là toán tử kiểm tra danh tính đối tượng.\n",
        "'''"
      ],
      "metadata": {
        "id": "4QZ72ugNjyUh"
      },
      "execution_count": null,
      "outputs": []
    },
    {
      "cell_type": "code",
      "source": [
        "#Câu 7\n",
        "'''\n",
        "Dùng input() để nhập dữ liệu từ bàn phím.\n",
        "Kết hợp với int(), float() để chuyển đổi kiểu dữ liệu.\n",
        "Sử dụng split() để nhập nhiều giá trị trên một dòng.\n",
        "Sử dụng list comprehension để nhập danh sách dữ liệu.\n",
        "'''"
      ],
      "metadata": {
        "id": "lSbSAr8skZnt"
      },
      "execution_count": null,
      "outputs": []
    },
    {
      "cell_type": "code",
      "source": [
        "#Câu 8\n",
        "'''\n",
        "Các loại lỗi: Cú pháp, khi chạy chương trình, logic.\n",
        "Cách bắt lỗi: Dùng try-except, có thể kết hợp else và finally, bắt nhiều lỗi, chủ động phát sinh lỗi với raise.\n",
        "'''"
      ],
      "metadata": {
        "id": "ZclSNI73kqUr"
      },
      "execution_count": null,
      "outputs": []
    },
    {
      "cell_type": "code",
      "source": [
        "#Câu 9\n",
        "\"\"\"\n",
        "(a) i1 + (i2 * i3)\n",
        "\n",
        "i2 * i3 = 5 * (-3) = -15\n",
        "2 + (-15) = -13\n",
        "\n",
        "(b) i1 * (i2 + i3)\n",
        "\n",
        "i2 + i3 = 5 + (-3) = 2\n",
        "2 * 2 = 4\n",
        "\n",
        "(c) i1 / (i2 + i3)\n",
        "\n",
        "i2 + i3 = 5 + (-3) = 2\n",
        "2 / 2 = 1.0\n",
        "\n",
        "(d) i1 // (i2 + i3)\n",
        "\n",
        "i2 + i3 = 2\n",
        "2 // 2 = 1\n",
        "\n",
        "(e) i1 / i2 + i3\n",
        "\n",
        "2 / 5 = 0.4\n",
        "0.4 + (-3) = -2.6\n",
        "\n",
        "(f) i1 // i2 + i3\n",
        "\n",
        "2 // 5 = 0\n",
        "0 + (-3) = -3\n",
        "\n",
        "(g) 3 + 4 + 5 / 3\n",
        "\n",
        "5 / 3 ≈ 1.6667\n",
        "3 + 4 + 1.6667 = 7 + 1.6667 = 8.6667\n",
        "\n",
        "(h) 3 + 4 + 5 // 3\n",
        "\n",
        "5 // 3 = 1\n",
        "3 + 4 + 1 = 8\n",
        "\n",
        "(i) (3 + 4 + 5) / 3\n",
        "\n",
        "3 + 4 + 5 = 12\n",
        "12 / 3 = 4.0\n",
        "\n",
        "(j) (3 + 4 + 5) // 3\n",
        "\n",
        "3 + 4 + 5 = 12\n",
        "12 // 3 = 4\n",
        "\n",
        "(k) d1 + (d2 * d3)\n",
        "\n",
        "d2 * d3 = 5.0 * (-0.5) = -2.5\n",
        "2.0 + (-2.5) = -0.5\n",
        "\n",
        "(l) d1 + d2 * d3\n",
        "\n",
        "d2 * d3 = 5.0 * (-0.5) = -2.5\n",
        "2.0 + (-2.5) = -0.5\n",
        "\n",
        "(m) d1 / d2 - d3\n",
        "\n",
        "2.0 / 5.0 = 0.4\n",
        "0.4 - (-0.5) = 0.4 + 0.5 = 0.9\n",
        "\n",
        "(n) d1 / (d2 - d3)\n",
        "\n",
        "d2 - d3 = 5.0 - (-0.5) = 5.0 + 0.5 = 5.5\n",
        "2.0 / 5.5 ≈ 0.3636\n",
        "\n",
        "(o) d1 + d2 + d3 / 3\n",
        "\n",
        "d3 / 3 = -0.5 / 3 ≈ -0.1667\n",
        "2.0 + 5.0 + (-0.1667) = 7.0 - 0.1667 ≈ 6.8333\n",
        "\n",
        "(p) (d1 + d2 + d3) / 3\n",
        "\n",
        "2.0 + 5.0 + (-0.5) = 6.5\n",
        "6.5 / 3 ≈ 2.1667\n",
        "\n",
        "(q) d1 + d2 + (d3 / 3)\n",
        "\n",
        "d3 / 3 ≈ -0.1667\n",
        "2.0 + 5.0 + (-0.1667) = 7.0 - 0.1667 ≈ 6.8333\n",
        "\n",
        "(r) 3 * (d1 + d2) * (d1 - d3)\n",
        "\n",
        "d1 + d2 = 2.0 + 5.0 = 7.0\n",
        "d1 - d3 = 2.0 - (-0.5) = 2.0 + 0.5 = 2.5\n",
        "3 * 7.0 = 21.0\n",
        "21.0 * 2.5 = 52.5\n",
        "'''"
      ],
      "metadata": {
        "id": "mWWw_Q5skzlz"
      },
      "execution_count": null,
      "outputs": []
    },
    {
      "cell_type": "code",
      "source": [
        "#Câu 10\n",
        "'''\n",
        "(a) x = x + 1 => x += 1\n",
        "\n",
        "(b) x = x / 2 => x /= 2\n",
        "\n",
        "(c) x = x - 1 => x -= 1\n",
        "\n",
        "(d) x = x + y => x += y\n",
        "\n",
        "(e) x = x - (y + 7) => x -= (y + 7)\n",
        "\n",
        "(f) x = 2*x => x *= 2\n",
        "\n",
        "(g) number_of_closed_cases = number_of_closed_cases + 2*ncc => number_of_closed_cases += 2*ncc\n",
        "'''"
      ],
      "metadata": {
        "id": "uQM4cLMnkyv2"
      },
      "execution_count": null,
      "outputs": []
    }
  ]
}