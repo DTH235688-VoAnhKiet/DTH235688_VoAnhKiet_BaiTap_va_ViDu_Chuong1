{
  "nbformat": 4,
  "nbformat_minor": 0,
  "metadata": {
    "colab": {
      "provenance": [],
      "authorship_tag": "ABX9TyN0EDVZ0kxBCM6KoWiiuNtO",
      "include_colab_link": true
    },
    "kernelspec": {
      "name": "python3",
      "display_name": "Python 3"
    },
    "language_info": {
      "name": "python"
    }
  },
  "cells": [
    {
      "cell_type": "markdown",
      "metadata": {
        "id": "view-in-github",
        "colab_type": "text"
      },
      "source": [
        "<a href=\"https://colab.research.google.com/github/DTH235688-VoAnhKiet/DTH235688_VoAnhKiet_BaiTap_va_ViDu_Chuong1/blob/main/v%C3%AD_d%E1%BB%A5.ipynb\" target=\"_parent\"><img src=\"https://colab.research.google.com/assets/colab-badge.svg\" alt=\"Open In Colab\"/></a>"
      ]
    },
    {
      "cell_type": "code",
      "execution_count": 2,
      "metadata": {
        "colab": {
          "base_uri": "https://localhost:8080/"
        },
        "id": "hk7GcQ3tPjXn",
        "outputId": "d5102546-5413-4dd5-cee0-55c21ae2caab"
      },
      "outputs": [
        {
          "output_type": "stream",
          "name": "stdout",
          "text": [
            "Hello World\n"
          ]
        }
      ],
      "source": [
        "print(\"Hello World\")"
      ]
    },
    {
      "cell_type": "code",
      "source": [
        "print(\"Albert Einstein đã từng nói : Một người không bao giờ mắc sai lầm không bao giờ thử bất kỳ điều gì mới .\")"
      ],
      "metadata": {
        "colab": {
          "base_uri": "https://localhost:8080/"
        },
        "id": "R-Qa6SFJPonP",
        "outputId": "03114f16-857e-4284-d65e-c79832822232"
      },
      "execution_count": 3,
      "outputs": [
        {
          "output_type": "stream",
          "name": "stdout",
          "text": [
            "Albert Einstein đã từng nói : Một người không bao giờ mắc sai lầm không bao giờ thử bất kỳ điều gì mới .\n"
          ]
        }
      ]
    },
    {
      "cell_type": "code",
      "source": [
        "# module1.py\n",
        "module1_question = 'What is the meaning of Life, the Universe, and Everything? '\n",
        "module1_answer =42\n",
        "\n",
        "# module2.py\n",
        "module2_question = 'What is your quest? '\n",
        "module2_answer ='To seek the holy grail.'\n",
        "\n",
        "print(module1_question)\n",
        "print(module1_answer)\n",
        "print(module2_question)\n",
        "print(module2_answer)"
      ],
      "metadata": {
        "colab": {
          "base_uri": "https://localhost:8080/"
        },
        "id": "PpslwPb0T67w",
        "outputId": "18b9dcd9-f3d7-4fbd-c854-9a7736bb2b9e"
      },
      "execution_count": 8,
      "outputs": [
        {
          "output_type": "stream",
          "name": "stdout",
          "text": [
            "What is the meaning of Life, the Universe, and Everything? \n",
            "42\n",
            "What is your quest? \n",
            "To seek the holy grail.\n"
          ]
        }
      ]
    },
    {
      "cell_type": "markdown",
      "source": [],
      "metadata": {
        "id": "g3_O0XIITyeQ"
      }
    }
  ]
}